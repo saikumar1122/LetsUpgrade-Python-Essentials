{
 "cells": [
  {
   "cell_type": "code",
   "execution_count": null,
   "metadata": {},
   "outputs": [],
   "source": [
    "for ele in range(1042000,702648266):\n",
    "    tmp=ele\n",
    "    val=0\n",
    "    while tmp>0:\n",
    "        tmp1=tmp%10\n",
    "        val=val+(tmp1*tmp1*tmp1)\n",
    "        tmp=tmp//10;\n",
    "\n",
    "    if ele==val:\n",
    "        print(ele)\n",
    "        break\n",
    "        \n",
    "       \n",
    "        \n"
   ]
  }
 ],
 "metadata": {
  "kernelspec": {
   "display_name": "Python 3",
   "language": "python",
   "name": "python3"
  }
 },
 "nbformat": 4,
 "nbformat_minor": 4
}
