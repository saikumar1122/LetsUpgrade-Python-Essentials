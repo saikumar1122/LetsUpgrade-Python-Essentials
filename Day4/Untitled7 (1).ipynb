{
 "cells": [
  {
   "cell_type": "code",
   "execution_count": 3,
   "metadata": {},
   "outputs": [
    {
     "name": "stdout",
     "output_type": "stream",
     "text": [
      "153\n"
     ]
    }
   ],
   "source": [
    "for ele in range(100,500):\n",
    "    tmp=ele\n",
    "    val=0\n",
    "    while tmp>0:\n",
    "        tmp1=tmp%10\n",
    "        val=val+(tmp1*tmp1*tmp1)\n",
    "        tmp=tmp//10;\n",
    "\n",
    "    if ele==val:\n",
    "        print(ele)\n",
    "        break\n",
    "        \n",
    "       \n",
    "        \n"
   ]
  },
  {
   "cell_type": "code",
   "execution_count": null,
   "metadata": {},
   "outputs": [],
   "source": []
  }
 ],
 "metadata": {
  "kernelspec": {
   "display_name": "Python 3",
   "language": "python",
   "name": "python3"
  }
 },
 "nbformat": 4,
 "nbformat_minor": 4
}
